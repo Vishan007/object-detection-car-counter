{
  "cells": [
    {
      "cell_type": "code",
      "execution_count": null,
      "metadata": {
        "id": "BQwXwUGUx2f5"
      },
      "outputs": [],
      "source": [
        "!pip install -r requirements.txt"
      ]
    },
    {
      "cell_type": "code",
      "execution_count": 32,
      "metadata": {
        "id": "_W3200BTz6lV"
      },
      "outputs": [],
      "source": [
        "from google.colab.patches import cv2_imshow\n",
        "from ultralytics import YOLO\n",
        "import numpy as np\n",
        "import cv2\n",
        "import cvzone\n",
        "import math\n",
        "import time\n",
        "from sort import *\n",
        "\n",
        "cap = cv2.VideoCapture('/content/traffic.mp4')#for videos\n",
        "model =YOLO('/content/yolov8n.pt')\n",
        "mask = cv2.imread('/content/mask.png')"
      ]
    },
    {
      "cell_type": "code",
      "source": [
        "#tracking system\n",
        "tracker = Sort(max_age=20,min_hits=3,iou_threshold=0.3)\n",
        "854,480\n",
        "limits = [190,160,460,160]\n",
        "totalcount = []"
      ],
      "metadata": {
        "id": "AL4Rqt8w0bGh"
      },
      "execution_count": 33,
      "outputs": []
    },
    {
      "cell_type": "code",
      "execution_count": null,
      "metadata": {
        "id": "oFjfxEL8ygXm"
      },
      "outputs": [],
      "source": [
        "classNames = [\"person\", \"bicycle\", \"car\", \"motorbike\", \"aeroplane\", \"bus\", \"train\", \"truck\", \"boat\",\n",
        "              \"traffic light\", \"fire hydrant\", \"stop sign\", \"parking meter\", \"bench\", \"bird\", \"cat\", \n",
        "              \"dog\", \"horse\", \"sheep\", \"cow\", \"elephant\", \"bear\", \"zebra\", \"giraffe\", \"backpack\", \"umbrella\",\n",
        "             \"handbag\", \"tie\", \"suitcase\", \"frisbee\", \"skis\", \"snowboard\", \"sports ball\", \"kite\", \"baseball bat\", \n",
        "             \"baseball glove\", \"skateboard\", \"surfboard\", \"tennis racket\", \"bottle\", \"wine glass\", \"cup\", \"fork\", \n",
        "             \"knife\", \"spoon\", \"bowl\", \"banana\", \"apple\", \"sandwich\", \"orange\", \"broccoli\", \"carrot\", \"hot dog\", \n",
        "             \"pizza\", \"donut\", \"cake\", \"chain\", \"sofa\", \"pottedplant\", \"bed\", \"diningtable\", \"toilet\", \"tvmonitor\", \n",
        "             \"laptop\", \"mouse\", \"remote\", \"keyboard\", \"cell phone\", \"microwave\", \"oven\", \"toaster\", \"sink\", \n",
        "             \"refrigerator\", \"book\", \"clock\", \"vase\", \"scissors\", \"teddy bear\", \"hair drier\", \"toothbrush\"]\n",
        "frame_width = int(cap.get(3))\n",
        "frame_height = int(cap.get(4))\n",
        "size = (frame_width, frame_height)\n",
        "finalvideo = cv2.VideoWriter('countedcar.avi', \n",
        "                         cv2.VideoWriter_fourcc(*'XVID'),\n",
        "                         10, size)\n",
        "while cap.isOpened():\n",
        "    success,img = cap.read()\n",
        "    imgregion = cv2.bitwise_and(img,mask)  # for adding the mask in video\n",
        "    if not success:\n",
        "      break\n",
        "    results = model(imgregion,stream=True)\n",
        "    detections = np.empty((0, 5))\n",
        "    for r in results:\n",
        "        boxes=r.boxes\n",
        "        for box in boxes:\n",
        "            #snippet for bounding box\n",
        "            x1,y1,x2,y2 = box.xyxy[0]     \n",
        "            x1,y1,x2,y2 = int(x1) , int(y1) , int(x2) , int(y2)   \n",
        "            w,h = x2-x1 , y2-y1\n",
        "            #confidence interval\n",
        "            conf = math.ceil((box.conf[0]*100))/100\n",
        "\n",
        "            #class names\n",
        "            cls = int(box.cls[0])\n",
        "            currentclass = classNames[cls]\n",
        "\n",
        "            if currentclass == 'car' or currentclass=='bus' or currentclass=='truck'\\\n",
        "                or currentclass =='motorbike' and conf>0.3:\n",
        "\n",
        "                #cvzone.putTextRect(img , f'{conf} {currentclass}' ,(max(0,x1),max(20,y1)),scale=0.6,thickness=1,\n",
        "                              #  offset=3)\n",
        "                #cvzone.cornerRect(img,(x1,y1,w,h),l=6,rt=5)\n",
        "                currentArray = np.array([x1,y1,x2,y2 , conf]) ##getting the points of rectangle \n",
        "                detections = np.vstack((detections , currentArray)) #stacking the two array\n",
        "\n",
        "    resulttracker = tracker.update(detections)\n",
        "    cv2.line(img,(limits[0],limits[1]),(limits[2],limits[3]),(255,0,0),5)   #drawing a line at (180,160,460,160)\n",
        "    for result in resulttracker:\n",
        "      x1,y1,x2,y2,id = result   #geting points for rectangle and car\n",
        "      x1,y1,x2,y2 = int(x1) , int(y1) , int(x2) , int(y2) \n",
        "      print(result)\n",
        "      w,h = x2-x1 , y2-y1\n",
        "      cvzone.cornerRect(img,(x1,y1,w,h),l=6,rt=2,colorR=(255,0,255))\n",
        "      cvzone.putTextRect(img , f'{int(id)}' ,(max(0,x1),max(25,y1)),scale=2,thickness=2,offset=4)\n",
        "      \n",
        "      cx,cy =  x1+w//2 , y1+h//2  ##getting the center of oject detected\n",
        "      cv2.circle(img,(cx,cy),5,(0,0,255),cv2.FILLED)\n",
        "\n",
        "      if limits[0]<cx<limits[2] and limits[1]-10 <cy< limits[1]+10:\n",
        "        if totalcount.count(id) == 0:\n",
        "            totalcount.append(id)\n",
        "            cv2.line(img,(limits[0],limits[1]),(limits[2],limits[3]),(0,255,0),5)   #drawing a line at (180,160,460,160)\n",
        "\n",
        "    cvzone.putTextRect(img , f'Total count:{len(totalcount)}' ,(50,50))\n",
        "    finalvideo.write(img)\n",
        "    #cv2_imshow(img)\n",
        "    #cv2_imshow(imgregion)\n",
        "    if cv2.waitKey(1) & 0xFF == ord('q'):\n",
        "        break\n",
        "\n",
        "cv2.destroyAllWindows() \n"
      ]
    },
    {
      "cell_type": "code",
      "source": [],
      "metadata": {
        "id": "gbty-N-i52lC"
      },
      "execution_count": null,
      "outputs": []
    }
  ],
  "metadata": {
    "colab": {
      "provenance": []
    },
    "kernelspec": {
      "display_name": "Python 3",
      "name": "python3"
    },
    "language_info": {
      "name": "python"
    }
  },
  "nbformat": 4,
  "nbformat_minor": 0
}